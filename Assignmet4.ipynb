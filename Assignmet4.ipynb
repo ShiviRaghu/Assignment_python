{
  "nbformat": 4,
  "nbformat_minor": 0,
  "metadata": {
    "colab": {
      "provenance": [],
      "authorship_tag": "ABX9TyOrM2JfC3fJoeSOuUy5UAA5",
      "include_colab_link": true
    },
    "kernelspec": {
      "name": "python3",
      "display_name": "Python 3"
    },
    "language_info": {
      "name": "python"
    }
  },
  "cells": [
    {
      "cell_type": "markdown",
      "metadata": {
        "id": "view-in-github",
        "colab_type": "text"
      },
      "source": [
        "<a href=\"https://colab.research.google.com/github/ShiviRaghu/Assignment_python/blob/main/Assignmet4.ipynb\" target=\"_parent\"><img src=\"https://colab.research.google.com/assets/colab-badge.svg\" alt=\"Open In Colab\"/></a>"
      ]
    },
    {
      "cell_type": "markdown",
      "source": [
        "Q1. Find the largest number from the given list, use for loop.\n",
        "numbers = [12, 75, 150, 180, 145, 525, 50]"
      ],
      "metadata": {
        "id": "KYwRgYv5Wf1q"
      }
    },
    {
      "cell_type": "code",
      "source": [
        "l =[12, 75, 150, 180, 145, 525, 5000]\n",
        "\n",
        "for i in range(1,len(l)):\n",
        "  if l[i]>l[i-1]:\n",
        "    l[i]==l[i-1]\n",
        "\n",
        "print(l[i])"
      ],
      "metadata": {
        "colab": {
          "base_uri": "https://localhost:8080/"
        },
        "id": "TWGmJBAQWpsJ",
        "outputId": "7b73c553-4b03-4b4b-e767-be02622bf609"
      },
      "execution_count": null,
      "outputs": [
        {
          "output_type": "stream",
          "name": "stdout",
          "text": [
            "5000\n"
          ]
        }
      ]
    },
    {
      "cell_type": "markdown",
      "source": [
        "Q2. Print all the even number between (1, 12)."
      ],
      "metadata": {
        "id": "8xFY6YAi0pFk"
      }
    },
    {
      "cell_type": "code",
      "source": [
        "for i in range(0,13):\n",
        "  if i%2==0:\n",
        "    print(i)"
      ],
      "metadata": {
        "colab": {
          "base_uri": "https://localhost:8080/"
        },
        "id": "MZwRUKNS0rsc",
        "outputId": "90ddeac4-06bf-4203-8e23-4aa19958683c"
      },
      "execution_count": null,
      "outputs": [
        {
          "output_type": "stream",
          "name": "stdout",
          "text": [
            "0\n",
            "2\n",
            "4\n",
            "6\n",
            "8\n",
            "10\n",
            "12\n"
          ]
        }
      ]
    },
    {
      "cell_type": "markdown",
      "source": [
        "Q3. Calculate the sum of all numbers from 1 to a given number\n",
        "\n",
        "Expected Output:\n",
        "\n",
        "Enter number 10\n",
        "\n",
        "Sum is: 55"
      ],
      "metadata": {
        "id": "P07zqmrV06dx"
      }
    },
    {
      "cell_type": "code",
      "source": [
        "n = int(input(\"give number till you want to find sum? \"))\n",
        "sum =0\n",
        "\n",
        "for i in range(0,n+1):\n",
        "  sum =sum +i\n",
        "print(sum)"
      ],
      "metadata": {
        "colab": {
          "base_uri": "https://localhost:8080/"
        },
        "id": "bbiJe6D_02Qa",
        "outputId": "82df3077-37f5-4c5e-f914-cc8a37e4dbf0"
      },
      "execution_count": null,
      "outputs": [
        {
          "output_type": "stream",
          "name": "stdout",
          "text": [
            "give number till you want to find sum? 10\n",
            "55\n"
          ]
        }
      ]
    },
    {
      "cell_type": "markdown",
      "source": [
        "Q4. Write a program to display only those numbers from a list that satisfy the following conditions\n",
        "\n",
        "The number must be divisible by five\n",
        "\n",
        "If the number is greater than 150, then skip it and move to the next number\n",
        "\n",
        "If the number is greater than 500, then stop the loop\n",
        "\n",
        "#given\n",
        "numbers = [12, 75, 150, 180, 145, 525, 50]"
      ],
      "metadata": {
        "id": "ULAtxCMz1bAe"
      }
    },
    {
      "cell_type": "code",
      "source": [
        "numbers = [12, 75, 150, 180, 145, 525, 50]\n",
        "\n",
        "for n in numbers:\n",
        "  if n%5==0:\n",
        "    if n>150:\n",
        "      continue\n",
        "      if n>500:\n",
        "        break\n",
        "    print(n)"
      ],
      "metadata": {
        "colab": {
          "base_uri": "https://localhost:8080/"
        },
        "id": "Y8yfYOIX1e91",
        "outputId": "2bbf2a9d-8794-4674-cd6c-9a23b69b1f8f"
      },
      "execution_count": null,
      "outputs": [
        {
          "output_type": "stream",
          "name": "stdout",
          "text": [
            "75\n",
            "150\n",
            "145\n",
            "50\n"
          ]
        }
      ]
    },
    {
      "cell_type": "markdown",
      "source": [
        "Q5. Print the given list in reverse order.\n",
        "\n",
        "list1 = [10, 20, 30, 40, 50]"
      ],
      "metadata": {
        "id": "OaFlhDbF2b8a"
      }
    },
    {
      "cell_type": "code",
      "source": [
        "list1 = [10, 20, 30, 40, 50]\n",
        "\n",
        "for l in reversed(list1):\n",
        "  print(l,end =\" \")\n"
      ],
      "metadata": {
        "colab": {
          "base_uri": "https://localhost:8080/"
        },
        "id": "Ky2mSUgv2blr",
        "outputId": "078957f7-cc9f-42f6-8f43-def58f2a843e"
      },
      "execution_count": null,
      "outputs": [
        {
          "output_type": "stream",
          "name": "stdout",
          "text": [
            "50 40 30 20 10 "
          ]
        }
      ]
    }
  ]
}