{
  "cells": [
    {
      "cell_type": "markdown",
      "metadata": {
        "id": "view-in-github",
        "colab_type": "text"
      },
      "source": [
        "<a href=\"https://colab.research.google.com/github/ShiviRaghu/Assignment_python/blob/main/Assignment2.ipynb\" target=\"_parent\"><img src=\"https://colab.research.google.com/assets/colab-badge.svg\" alt=\"Open In Colab\"/></a>"
      ]
    },
    {
      "cell_type": "markdown",
      "metadata": {
        "id": "LOhzep07ORVJ"
      },
      "source": [
        "### What is indentation error? Why indentation is important? Give one simple example?"
      ]
    },
    {
      "cell_type": "markdown",
      "metadata": {
        "id": "Jsh13YrDOWQX"
      },
      "source": [
        "ans --- When u dont provide white space then python will not know these lines of code are to be executed under if loop\n"
      ]
    },
    {
      "cell_type": "code",
      "execution_count": null,
      "metadata": {
        "id": "8XiNrieFONfn"
      },
      "outputs": [],
      "source": [
        "a =10;\n",
        "# print(a)"
      ]
    },
    {
      "cell_type": "code",
      "execution_count": null,
      "metadata": {
        "id": "G4kdLSrsOQyZ"
      },
      "outputs": [],
      "source": [
        "a =input(\"value of a \")\n",
        "if a==100:\n",
        "print(\"true\")\n",
        "else:\n",
        "    print(\"false\")"
      ]
    },
    {
      "cell_type": "markdown",
      "metadata": {
        "id": "HCTDOA8XPbJW"
      },
      "source": [
        "### Correct the following code and write the comment where you made the correction?\n",
        "\n",
        "class_started = bool(input(\"Hey friend, is class started?: [0-False/1-True]\"))\n",
        "\n",
        "if class_started:\n",
        "   print(\"Since class started...\")\n",
        "   print(\"Lets concentrate\")\n",
        "else:\n",
        "   print(\"Since class is not started...\")\n",
        "   print(\"let's revise\")    \n",
        "HINT: Refer your data type conversion class"
      ]
    },
    {
      "cell_type": "code",
      "execution_count": null,
      "metadata": {
        "colab": {
          "base_uri": "https://localhost:8080/"
        },
        "id": "tolPYnGzPa1_",
        "outputId": "e90972a5-b9ac-4e42-d6dd-9cac82b2f80d"
      },
      "outputs": [
        {
          "name": "stdout",
          "output_type": "stream",
          "text": [
            "Hey friend, is class started?: [0-False/1-True]1\n",
            "Since class is not started...\n",
            "let's revise\n"
          ]
        }
      ],
      "source": [
        "class_started = input(\"Hey friend, is class started?: [0-False/1-True]\")\n",
        "\n",
        "if class_started ==\"0\" or class_started==\"False\":\n",
        "    class_started ==\"\"\n",
        "\n",
        "if class_started:\n",
        "   print(\"Since class is not started...\")\n",
        "   print(\"let's revise\")\n",
        "else:\n",
        "   print(\"Since class started...\")\n",
        "   print(\"Lets concentrate\")"
      ]
    },
    {
      "cell_type": "markdown",
      "metadata": {
        "id": "vvOYKi7kZVUG"
      },
      "source": [
        "### Use if else condition to verify that dataype of input() method in python is always string."
      ]
    },
    {
      "cell_type": "code",
      "execution_count": null,
      "metadata": {
        "colab": {
          "base_uri": "https://localhost:8080/"
        },
        "id": "oWKmIE6wZZXt",
        "outputId": "04ab1db7-11f2-4365-8364-62a81d72fe69"
      },
      "outputs": [
        {
          "name": "stdout",
          "output_type": "stream",
          "text": [
            "value of a 1.2334aas\n",
            "input comes in form of string\n"
          ]
        }
      ],
      "source": [
        "a = input(\"value of a \")\n",
        "\n",
        "if type(a)==str:\n",
        "  print(\"input comes in form of string\")\n",
        "else:\n",
        "  print(\"not a string\")"
      ]
    },
    {
      "cell_type": "markdown",
      "metadata": {
        "id": "N0mk2DgUZxmk"
      },
      "source": [
        "### Take 3 variables and assign integer values to them. Find the largest variable, by only using the if and else conditions."
      ]
    },
    {
      "cell_type": "code",
      "execution_count": null,
      "metadata": {
        "colab": {
          "base_uri": "https://localhost:8080/"
        },
        "id": "cNgBd7ppZ5I2",
        "outputId": "92f518cc-e2d8-494f-bb7f-919671404ddb"
      },
      "outputs": [
        {
          "name": "stdout",
          "output_type": "stream",
          "text": [
            "a is greatest\n"
          ]
        }
      ],
      "source": [
        "a,b,c =1000,900,100\n",
        "\n",
        "if a<b:\n",
        "    if b<c :\n",
        "      print (\"c is greatest\")\n",
        "    else:\n",
        "      print(\"b is greatest\")\n",
        "else:\n",
        "    print(\"a is greatest\")"
      ]
    },
    {
      "cell_type": "markdown",
      "metadata": {
        "id": "s3c_XxkmehyL"
      },
      "source": [
        "True\n",
        "False\n",
        "\n",
        "a = 6\n",
        "b = 10\n",
        "print( not ( not a == 10 or not b == 10) )"
      ]
    },
    {
      "cell_type": "code",
      "execution_count": null,
      "metadata": {
        "colab": {
          "base_uri": "https://localhost:8080/"
        },
        "id": "4AZ2hNyWehi2",
        "outputId": "ef0e9b93-c33a-4859-ac70-c6b942eb3b12"
      },
      "outputs": [
        {
          "name": "stdout",
          "output_type": "stream",
          "text": [
            "False\n"
          ]
        }
      ],
      "source": [
        "a = 6\n",
        "b = 10\n",
        "print( not ( not a == 10 or not b == 10) )"
      ]
    },
    {
      "cell_type": "markdown",
      "metadata": {
        "id": "W2aXpN_be9AM"
      },
      "source": []
    },
    {
      "cell_type": "markdown",
      "metadata": {
        "id": "GT4IytkJMNa-"
      },
      "source": [
        "  \n",
        "6. Find the answer as well as find out the reason behind the result? -\n",
        "    - case 1:\n",
        "        ```python\n",
        "        A = 5.0\n",
        "        B = 10/2\n",
        "        print(A is B)\n",
        "        ```\n",
        "    - case 2:\n",
        "        ```python\n",
        "        A = 5.0\n",
        "        B = int(10/2)\n",
        "        print(A is B)\n",
        "        ```\n",
        "    - case 3:\n",
        "        ```python\n",
        "        A = 5.0\n",
        "        B = float(10/2)\n",
        "        print(A is B)\n",
        "        ```"
      ]
    },
    {
      "cell_type": "code",
      "execution_count": null,
      "metadata": {
        "colab": {
          "base_uri": "https://localhost:8080/",
          "height": 139
        },
        "id": "Gef6nAvrZxUt",
        "outputId": "29f4be5f-e276-435a-83ca-80353b4d9804"
      },
      "outputs": [
        {
          "name": "stdout",
          "output_type": "stream",
          "text": [
            "134284857118608\n",
            "134284857121488\n",
            "False\n",
            "False\n",
            "False\n"
          ]
        },
        {
          "data": {
            "application/vnd.google.colaboratory.intrinsic+json": {
              "type": "string"
            },
            "text/plain": [
              "'A is floating type number with base 10 where as B is arithmatic operation with base 2 thats why the value is False. \\nPython only prints a decimal approximation to the true decimal value of the binary approximation stored by the machine.\\n'"
            ]
          },
          "execution_count": 29,
          "metadata": {},
          "output_type": "execute_result"
        }
      ],
      "source": [
        "A = 5.0\n",
        "B = 10/2\n",
        "print(id(A))\n",
        "print(id(B))\n",
        "print(A is B)\n",
        "\n",
        "A = 5.0\n",
        "B = int(10/2)\n",
        "print(A is B)\n",
        "\n",
        "A = 5.0\n",
        "B = float(10/2)\n",
        "print(A is B)\n",
        "\n",
        "\"\"\"A is floating type number with base 10 where as B is arithmatic operation with base 2 thats why the value is False.\n",
        "Python only prints a decimal approximation to the true decimal value of the binary approximation stored by the machine.\n",
        "\"\"\""
      ]
    },
    {
      "cell_type": "markdown",
      "metadata": {
        "id": "8yB3dyoKft2V"
      },
      "source": [
        "## New Section"
      ]
    },
    {
      "cell_type": "markdown",
      "metadata": {
        "id": "z8JVFnm0d19B"
      },
      "source": [
        "\n",
        "7. Write a program that asks the user to enter a number. You should print out a message to the user, either “That number is divisible by either 3 or 5”, or “That number is not divisible by either 3 or 5”. Be sure to consider the data type of the input you are taking in from the user. Use a single if/else block to solve this problem."
      ]
    },
    {
      "cell_type": "code",
      "execution_count": null,
      "metadata": {
        "colab": {
          "base_uri": "https://localhost:8080/"
        },
        "id": "WlsdPSaqf7uL",
        "outputId": "800db605-f327-422a-a9b0-2bc56e733e7c"
      },
      "outputs": [
        {
          "output_type": "stream",
          "name": "stdout",
          "text": [
            " please enter a number to check is it divisble by 3 or 5?546\n",
            "no. is divisble by 3 or 5\n"
          ]
        }
      ],
      "source": [
        "a = int(input(\" please enter a number to check is it divisble by 3 or 5?\"))\n",
        "\n",
        "if a%3==0 or a%5==0:\n",
        "  print(\"no. is divisble by 3 or 5\")\n",
        "else:\n",
        "  print(\"no. is not divisble by 3 or 5\")"
      ]
    },
    {
      "cell_type": "markdown",
      "source": [
        "8. Take user input for length and width. Then calculate the area of rectangle. Also print as per length and width whether its a square of rectangle."
      ],
      "metadata": {
        "id": "2pqcWfdeezi8"
      }
    },
    {
      "cell_type": "code",
      "source": [
        "length = int(input(\"Please enter the length in metres: \"))\n",
        "width = int(input(\"Please enter the width in metres: \"))\n",
        "\n",
        "area= length * width\n",
        "\n",
        "if (length == width):\n",
        "  print(f\"As the length {length} metre and width {width} metres are same so it is a square\")\n",
        "\n",
        "else:\n",
        "  print(f\"The area of the rectangle with length {length} metres and width {width} metres is : {area} sq. metres\")\n"
      ],
      "metadata": {
        "colab": {
          "base_uri": "https://localhost:8080/"
        },
        "id": "FKEL-LZze3Lp",
        "outputId": "0875e559-ce62-409c-aed9-3b77e5e4bbba"
      },
      "execution_count": null,
      "outputs": [
        {
          "output_type": "stream",
          "name": "stdout",
          "text": [
            "Please enter the length in metres: 12\n",
            "Please enter the breadth in metres: 12\n",
            "As the length 12 metre and breadth 12 metres are same so it is a square\n"
          ]
        }
      ]
    },
    {
      "cell_type": "markdown",
      "source": [
        "\n",
        "9. Take two variable radius_1 and radius_2 and calculate the area of circle_1 and circle_2. Also print which circle has large area. If area is equal then print area is equal."
      ],
      "metadata": {
        "id": "4F4GEQpWf7hq"
      }
    },
    {
      "cell_type": "code",
      "source": [
        "radius_1 = int(input(\"Please enter the radius of the 1st circle in mts : \"))\n",
        "radius_2 = int(input(\"Please enter the radius of the 2nd circle in mts : \"))\n",
        "\n",
        "area_circle_1 =  radius_1 ** 2\n",
        "area_circle_2 =  radius_2 ** 2\n",
        "\n",
        "if area_circle_1 == area_circle_2:\n",
        "  print(\"Both the circles have equal Area\")\n",
        "else:\n",
        "  if area_circle_1 > area_circle_2:\n",
        "    print(f\"Circle one has larger area of {area_circle_1} sq mts \")\n",
        "  else:\n",
        "    print(f\"Circle two has larger area of {area_circle_2} sq. mts \")\n",
        "\n",
        "\n",
        "\n"
      ],
      "metadata": {
        "colab": {
          "base_uri": "https://localhost:8080/"
        },
        "id": "VCEJSqskf_Rt",
        "outputId": "f603f76a-775f-4e72-b63e-84d218694a55"
      },
      "execution_count": null,
      "outputs": [
        {
          "output_type": "stream",
          "name": "stdout",
          "text": [
            "Please enter the radius of the 1st circle in mts : 15\n",
            "Please enter the radius of the 2nd circle in mts : 10\n",
            "Circle one has larger area of 225 sq mts \n"
          ]
        }
      ]
    },
    {
      "cell_type": "markdown",
      "source": [
        "10. Check whether a year is leap year or not. Use nested if...else to solve this problem. A leap year is exactly divisible by 4 except for century years (years ending with 00). The century year is a leap year only if it is perfectly divisible by 400."
      ],
      "metadata": {
        "id": "mZDDaS29hoJL"
      }
    },
    {
      "cell_type": "code",
      "source": [
        "leap_year = 2100\n",
        "\n",
        "if leap_year % 4 == 0 :\n",
        "  if leap_year % 400 ==0:\n",
        "    print(\"It is a leap year\")\n",
        "  else:\n",
        "    print(\"Not a leap year\")\n",
        "else:\n",
        "  print(\"It is not a leap year\")"
      ],
      "metadata": {
        "colab": {
          "base_uri": "https://localhost:8080/"
        },
        "id": "Y29TBfN8hs4O",
        "outputId": "046af3d0-6382-4cdd-9c49-bddf0e0888fe"
      },
      "execution_count": null,
      "outputs": [
        {
          "output_type": "stream",
          "name": "stdout",
          "text": [
            "Not a leap year\n"
          ]
        }
      ]
    }
  ],
  "metadata": {
    "colab": {
      "provenance": [],
      "authorship_tag": "ABX9TyNm+WSGTni5N13nx+R/0iMj",
      "include_colab_link": true
    },
    "kernelspec": {
      "display_name": "Python 3",
      "name": "python3"
    },
    "language_info": {
      "name": "python"
    }
  },
  "nbformat": 4,
  "nbformat_minor": 0
}