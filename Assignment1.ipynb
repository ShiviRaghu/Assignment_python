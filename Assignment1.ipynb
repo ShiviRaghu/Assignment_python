{
  "nbformat": 4,
  "nbformat_minor": 0,
  "metadata": {
    "colab": {
      "provenance": [],
      "authorship_tag": "ABX9TyNi7zL1261LKKsyMqDV0IjI",
      "include_colab_link": true
    },
    "kernelspec": {
      "name": "python3",
      "display_name": "Python 3"
    },
    "language_info": {
      "name": "python"
    }
  },
  "cells": [
    {
      "cell_type": "markdown",
      "metadata": {
        "id": "view-in-github",
        "colab_type": "text"
      },
      "source": [
        "<a href=\"https://colab.research.google.com/github/ShiviRaghu/Assignment_python/blob/main/Assignment1.ipynb\" target=\"_parent\"><img src=\"https://colab.research.google.com/assets/colab-badge.svg\" alt=\"Open In Colab\"/></a>"
      ]
    },
    {
      "cell_type": "markdown",
      "source": [],
      "metadata": {
        "id": "_vlzLyB-qQ08"
      }
    },
    {
      "cell_type": "markdown",
      "source": [
        "### ASSIGNMENTS - NOT compulsory but usefull!!\n",
        "### I am not at loss if you don't submit\n",
        "### send the mail to\n",
        "### send it before 0000 hrs IST | 12 AM tonight\n",
        "### Special cases respond atleast before 1200 hrs IST tomorrow i.e Monday\n",
        "\n",
        "TO: query@ineuron.ai\n",
        "CC: sunny@ineuron.ai, riishav@ineuron.ai, boktiar@ineuron.ai\n",
        "\n",
        "Subject: [Bootcamp 2.0 | Assignment No. 1]:\n",
        "\n",
        "1. Find out all the types of error that we have encountered in our lecture and why? Also include the examples.\n",
        "2. Take input A and B and print their sum, mul, div, square of the nos.\n",
        "3. How many reserve keywords are there in python and why we should not use them as a variable name.\n",
        "4. Create email ids with the user inputs. in the following format -\n",
        "lastname.firstname@gmail.com\n",
        "5. Try to print the following lines -\n",
        "  - Hi I'm Sunny\n",
        "  - My address is 22\\3\n",
        "  - I earn 20$ daily.\n",
        "6. Take user input (name, address, date of birth etc) to fill a form for your college and print their email IDs\n",
        "7. Convert the following -\n",
        "  - \"22.4\" into integer\n",
        "  - \"22\" into complex no.\n"
      ],
      "metadata": {
        "id": "YFfbdZzEiEKX"
      }
    },
    {
      "cell_type": "markdown",
      "source": [
        "### Find out all the types of error that we have encountered in our lecture and why? Also include the examples."
      ],
      "metadata": {
        "id": "CnXwaMqXuLHL"
      }
    },
    {
      "cell_type": "code",
      "execution_count": null,
      "metadata": {
        "id": "ZHm9Y1QXqQDY"
      },
      "outputs": [],
      "source": [
        "\n",
        "ans ---1NameError:\" \" is missing for without print\n",
        "2SyntaxError: invalid syntax  : can not use special chars while naming variable\n",
        "3SyntaxError: cannot assign to expression  : can not use special chars while naming variable\n",
        "4SyntaxError: invalid decimal literal : can not use numbers in starting of var name\n",
        "5SyntaxError: leading zeros in decimal integer literals are not permitted; use an 0o prefix for octal integers   ---can not concanate string and integer directly\n",
        "6ValueError: invalid literal for int() with base 10: 'abc' -- can not convert string chars to integer\n",
        "7ValueError: invalid literal for int() with base 10: '50.23' --can not convert string float to integer\n",
        "8ValueError: invalid literal for int() with base 10: ''-- --can not convert empty string to integer\n",
        "9TypeError: 'str' object is not callable :cannot use reserved word as var name"
      ]
    },
    {
      "cell_type": "markdown",
      "source": [
        "### Take input A and B and print their sum, mul, div, square of the nos.\n",
        "\n"
      ],
      "metadata": {
        "id": "gVZKrX8BuB2W"
      }
    },
    {
      "cell_type": "code",
      "source": [
        "a = int(input(\"value of a = \"))\n",
        "b = int(input(\"value of b = \"))\n",
        "print(f\"sum of {a} + { b} = {a+b}\")\n",
        "print(f\"mul of {a} * { b} = {a*b}\")\n",
        "print(f\"div of {a} / { b} = {a/b}\")\n",
        "print(f\"square of {a} = {a**2}\")\n",
        "print(f\"square of {b} = {b**2}\")"
      ],
      "metadata": {
        "colab": {
          "base_uri": "https://localhost:8080/"
        },
        "id": "cO6tnCB-uJlv",
        "outputId": "2f95adf4-edd3-42c1-b6c0-5c15ab2a3c2b"
      },
      "execution_count": null,
      "outputs": [
        {
          "output_type": "stream",
          "name": "stdout",
          "text": [
            "value of a = 12\n",
            "value of b = 4\n",
            "sum of 12 + 4 = 16\n",
            "mul of 12 * 4 = 48\n",
            "div of 12 / 4 = 3.0\n",
            "square of 12 = 144\n",
            "square of 4 = 16\n"
          ]
        }
      ]
    },
    {
      "cell_type": "markdown",
      "source": [
        "### How many reserve keywords are there in python and why we should not use them as a variable name."
      ],
      "metadata": {
        "id": "TqaZS-6xvCM1"
      }
    },
    {
      "cell_type": "code",
      "source": [
        "We should not use reserved words as variable names because they give us type errors\n",
        "Also python doesn't restrict the user to use reserved keywords as variable names\n",
        "\n",
        "and del from not while\n",
        "as elif global or with\n",
        "assert else if pass yield\n",
        "break except import print\n",
        "class exec in raise\n",
        "continue finally is return\n",
        "def for lambda try"
      ],
      "metadata": {
        "id": "FV0R8XHTvGrq"
      },
      "execution_count": null,
      "outputs": []
    },
    {
      "cell_type": "markdown",
      "source": [
        "### Create email ids with the user inputs. in the following format - lastname.firstname@gmail.com"
      ],
      "metadata": {
        "id": "r0t0AmYMvMf4"
      }
    },
    {
      "cell_type": "code",
      "source": [
        "firstname = input(\"enter first name = \")\n",
        "lastname = input(\"last name = \")\n",
        "print(f\"{lastname}.{firstname}@gmail.com\")"
      ],
      "metadata": {
        "colab": {
          "base_uri": "https://localhost:8080/"
        },
        "id": "efDQY63fvS7r",
        "outputId": "f5b3ada4-8ca4-49be-c2ae-f595c6ad17b6"
      },
      "execution_count": null,
      "outputs": [
        {
          "output_type": "stream",
          "name": "stdout",
          "text": [
            "enter first name = shivani\n",
            "last name = raghuwanshi\n",
            "raghuwanshi.shivani@gmail.com\n"
          ]
        }
      ]
    },
    {
      "cell_type": "markdown",
      "source": [
        "### Try to print the following lines -\n",
        "Hi I'm Sunny\n",
        "My address is 22\\3\n",
        "I earn 20$ daily."
      ],
      "metadata": {
        "id": "DVGK5LCWv-cl"
      }
    },
    {
      "cell_type": "code",
      "source": [
        "firstname = input(\"enter first name = \")\n",
        "address = input(\"last address = \")\n",
        "wages = input(\"daily wages = \")\n",
        "print(f\"\"\"Hi I am {firstname}\n",
        "My address is {address}\n",
        "I earn {wages} daily.\n",
        "\"\"\")"
      ],
      "metadata": {
        "colab": {
          "base_uri": "https://localhost:8080/"
        },
        "id": "e_TckiiRwHXp",
        "outputId": "1cf6a2a3-a0fc-4436-ed4b-aa9b7d8b8389"
      },
      "execution_count": null,
      "outputs": [
        {
          "output_type": "stream",
          "name": "stdout",
          "text": [
            "enter first name = shivani\n",
            "last address = hig22\n",
            "daily wages = 50$\n",
            "Hi I am shivani\n",
            "My address is hig22\n",
            "I earn 50$ daily.\n",
            "\n"
          ]
        }
      ]
    },
    {
      "cell_type": "markdown",
      "source": [
        "### Take user input (name, address, date of birth etc) to fill a form for your college and print their email IDs"
      ],
      "metadata": {
        "id": "d8zf3ZpN56IL"
      }
    },
    {
      "cell_type": "code",
      "source": [
        "name = input(\"enter name \")\n",
        "address = input(\"enter address \")\n",
        "dob = input (\"dob = \")\n",
        "print(f\"{name}.{address}{dob}@gmail.com\")\n"
      ],
      "metadata": {
        "colab": {
          "base_uri": "https://localhost:8080/"
        },
        "id": "i7ndY3ym553c",
        "outputId": "dd76653a-115e-42a0-92bb-f002b064f5e3"
      },
      "execution_count": null,
      "outputs": [
        {
          "output_type": "stream",
          "name": "stdout",
          "text": [
            "enter name shivi\n",
            "enter address hig22\n",
            "dob = 0407\n",
            "shivi.hig220407@gmail.com\n"
          ]
        }
      ]
    },
    {
      "cell_type": "markdown",
      "source": [
        "### Convert the following -\n",
        "\"22.4\" into integer\n",
        "\"22\" into complex no."
      ],
      "metadata": {
        "id": "mPftNAdr6h2c"
      }
    },
    {
      "cell_type": "code",
      "source": [
        "a =22.4\n",
        "print(type(a))\n",
        "a =int(a)\n",
        "print(type(a))\n",
        "print(a)\n",
        "a=22\n",
        "b=.2\n",
        "a=complex(a,b)\n",
        "print(type(a))\n",
        "print(a)"
      ],
      "metadata": {
        "colab": {
          "base_uri": "https://localhost:8080/"
        },
        "id": "YAeAApks6pOF",
        "outputId": "a18a3856-eec7-41ba-a7ec-5c2f7a407c32"
      },
      "execution_count": null,
      "outputs": [
        {
          "output_type": "stream",
          "name": "stdout",
          "text": [
            "<class 'float'>\n",
            "<class 'int'>\n",
            "22\n",
            "<class 'complex'>\n",
            "(22+0.2j)\n"
          ]
        }
      ]
    }
  ]
}