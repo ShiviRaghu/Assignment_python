{
  "nbformat": 4,
  "nbformat_minor": 0,
  "metadata": {
    "colab": {
      "provenance": [],
      "authorship_tag": "ABX9TyPMNEjUxIND1Ju76gTKPBWQ",
      "include_colab_link": true
    },
    "kernelspec": {
      "name": "python3",
      "display_name": "Python 3"
    },
    "language_info": {
      "name": "python"
    }
  },
  "cells": [
    {
      "cell_type": "markdown",
      "metadata": {
        "id": "view-in-github",
        "colab_type": "text"
      },
      "source": [
        "<a href=\"https://colab.research.google.com/github/ShiviRaghu/Assignment_python/blob/main/Assignment3.ipynb\" target=\"_parent\"><img src=\"https://colab.research.google.com/assets/colab-badge.svg\" alt=\"Open In Colab\"/></a>"
      ]
    },
    {
      "cell_type": "markdown",
      "source": [
        "## Python String Manipulation\n",
        "\n",
        "1. Count the number of times `iNeuron` appears in the string.\n",
        "```python\n",
        "text = \"Welcome to iNeuron, You are a part of FSDS Bootcamp 2 in iNeuron. I hope you are enjoying the course by iNeuron\"\n",
        "```\n",
        "2. Check if position `5` to `11` ends with the phrase `iNeuron.` in the string\n",
        "```python\n",
        "txt = \"Hello, welcome to FSDS 2.0 at iNeuron.\"\n",
        "```\n",
        "3. Write a program that takes your full name as input and displays the abbreviations of the first and middle names except the last name which is displayed as it is. For example, if your name is Sunny Bhaveen Chandra, then the output should be S.B.Chandra.\n",
        "\n",
        "4. Join all items in a list into a string, using a hash(`#`) character as separator:\n",
        "```python\n",
        "LIST = [\"My\", \"name\", \"is\", \"Rishav\", \"Dash\"]\n",
        "```\n",
        "5. Write example for the following string manipulation function,\n",
        "\n",
        "  ```\n",
        "  - isdecimal()\n",
        "  - islower()\n",
        "  - isupper()\n",
        "  - isalpha()\n",
        "  - isnumeric()\n",
        "\n",
        "  ```\n",
        "6. Indian PAN card format follows the following formats -\n",
        "    - `AYEPC7894X`\n",
        "    - `ABCDE9999Y`\n",
        "  Take user input for PAN_CARD and validate as per the above example.\n"
      ],
      "metadata": {
        "id": "GT4IytkJMNa-"
      }
    },
    {
      "cell_type": "code",
      "source": [
        "text = \"Welcome to iNeuron, You are a part of FSDS Bootcamp 2 in iNeuron. I hope you are enjoying the course by iNeuron\"\n",
        "n = text.count(\"iNeuron\")\n",
        "n"
      ],
      "metadata": {
        "colab": {
          "base_uri": "https://localhost:8080/"
        },
        "id": "H0lrfwpn0AG6",
        "outputId": "ddaef06f-86de-4fd1-fb62-03f5e0519664"
      },
      "execution_count": 3,
      "outputs": [
        {
          "output_type": "execute_result",
          "data": {
            "text/plain": [
              "3"
            ]
          },
          "metadata": {},
          "execution_count": 3
        }
      ]
    },
    {
      "cell_type": "code",
      "source": [
        "txt = \"Hello, welcome to FSDS 2.0 at iNeuron.\"\n",
        "y = txt[5:12]\n",
        "print(y)\n",
        "y.endswith(\"iNeuron\")"
      ],
      "metadata": {
        "colab": {
          "base_uri": "https://localhost:8080/"
        },
        "id": "2wKLgSKh0RXR",
        "outputId": "271c4fd9-242a-4759-8eb8-3e75a728f0c0"
      },
      "execution_count": 6,
      "outputs": [
        {
          "output_type": "stream",
          "name": "stdout",
          "text": [
            ", welco\n"
          ]
        },
        {
          "output_type": "execute_result",
          "data": {
            "text/plain": [
              "False"
            ]
          },
          "metadata": {},
          "execution_count": 6
        }
      ]
    },
    {
      "cell_type": "code",
      "source": [
        "###Write a program that takes your full name as input and displays the abbreviations of the first and middle names except the last name which is\n",
        "## displayed as it is. For example, if your name is Sunny Bhaveen Chandra, then the output should be S.B.Chandra.\n",
        "\n",
        "name = input(\"enter your fulll name \")\n",
        "first , middle ,last = name.split(\" \")\n",
        "print(f\"{first[0]}.{middle[0]}.{last}\")\n",
        "\n",
        "####orrrr\n",
        "\n",
        "y = name.split(\" \")\n",
        "print(f\"{y[0][0:1]}.{y[1][0:1]}.{y[2]}\")\n"
      ],
      "metadata": {
        "colab": {
          "base_uri": "https://localhost:8080/"
        },
        "id": "VhvDnTAY0rvL",
        "outputId": "89605251-81c8-4858-c556-c340b2906994"
      },
      "execution_count": 17,
      "outputs": [
        {
          "output_type": "stream",
          "name": "stdout",
          "text": [
            "enter your fulll name shivani raghuw jkk\n",
            "s.r.jkk\n",
            "s.r.jkk\n"
          ]
        }
      ]
    },
    {
      "cell_type": "code",
      "source": [
        "LIST = [\"My\", \"name\", \"is\", \"Rishav\", \"Dash\"]\n",
        "\"#\".join(LIST)"
      ],
      "metadata": {
        "colab": {
          "base_uri": "https://localhost:8080/",
          "height": 36
        },
        "id": "JdPBhSaX3ob7",
        "outputId": "b023578b-bff6-412d-df11-06c135f81a6c"
      },
      "execution_count": 19,
      "outputs": [
        {
          "output_type": "execute_result",
          "data": {
            "text/plain": [
              "'My#name#is#Rishav#Dash'"
            ],
            "application/vnd.google.colaboratory.intrinsic+json": {
              "type": "string"
            }
          },
          "metadata": {},
          "execution_count": 19
        }
      ]
    },
    {
      "cell_type": "code",
      "source": [
        "\"\"\"- isdecimal()\n",
        "- islower()\n",
        "- isupper()\n",
        "- isalpha()\n",
        "- isnumeric()\"\"\"\n",
        "\n",
        "\n",
        "n =\"012344\"\n",
        "print(n.isdecimal())\n",
        "\n",
        "n =\"sdsf\"\n",
        "print(n.isalpha())\n",
        "\n",
        "n =\"ASDD\"\n",
        "print(n.isupper())\n",
        "\n",
        "n =\"12334.2333\"\n",
        "print(n.isnumeric())"
      ],
      "metadata": {
        "colab": {
          "base_uri": "https://localhost:8080/"
        },
        "id": "Elfcrk0D35n4",
        "outputId": "4d1af4dd-7b58-4047-cc0f-6b3c7650ffdf"
      },
      "execution_count": 30,
      "outputs": [
        {
          "output_type": "stream",
          "name": "stdout",
          "text": [
            "True\n",
            "True\n",
            "True\n",
            "False\n"
          ]
        }
      ]
    },
    {
      "cell_type": "code",
      "source": [
        "\"\"\"Indian PAN card format follows the following formats -\n",
        "\n",
        "AYEPC7894X\n",
        "ABCDE9999Y Take user input for PAN_CARD and validate as per the above example.\"\"\"\"\"\n",
        "\n",
        "pan = input(\"enter pan card num\")\n",
        "\n",
        "##if pan.isupper and pan.isalnum and len(pan)==10 and pan.endswith([\"[A-Z]\"]):\n",
        "if pan[0:5].isupper() and pan[5:9].isdecimal() and pan[9].isupper() and len(pan)==10:\n",
        "  print(f\"you have entered pancard in correct format {pan}\")\n",
        "else:\n",
        "  print(\"please enter correct details\")"
      ],
      "metadata": {
        "colab": {
          "base_uri": "https://localhost:8080/"
        },
        "id": "lhe4MMD635a5",
        "outputId": "89648fab-62c1-4035-eddb-013848180419"
      },
      "execution_count": 33,
      "outputs": [
        {
          "output_type": "stream",
          "name": "stdout",
          "text": [
            "enter pan card numAXCRD7898Y\n",
            "you have entered pancard in correct format AXCRD7898Y\n"
          ]
        }
      ]
    }
  ]
}